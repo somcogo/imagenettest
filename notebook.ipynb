{
 "cells": [
  {
   "cell_type": "code",
   "execution_count": 1,
   "metadata": {},
   "outputs": [
    {
     "name": "stderr",
     "output_type": "stream",
     "text": [
      "/home/somahansel/anaconda3/envs/mnist_test/lib/python3.9/site-packages/tqdm/auto.py:22: TqdmWarning: IProgress not found. Please update jupyter and ipywidgets. See https://ipywidgets.readthedocs.io/en/stable/user_install.html\n",
      "  from .autonotebook import tqdm as notebook_tqdm\n"
     ]
    }
   ],
   "source": [
    "from PIL import Image\n",
    "from matplotlib import image\n",
    "from matplotlib import pyplot\n",
    "from glob import glob\n",
    "import os\n",
    "import numpy as np\n",
    "import torch\n",
    "import h5py"
   ]
  },
  {
   "cell_type": "code",
   "execution_count": 7,
   "metadata": {},
   "outputs": [],
   "source": [
    "train_data_path = 'data/train'\n",
    "val_data_path = 'data/val/images'\n",
    "test_data_path = 'data/test/images'\n",
    "\n",
    "train_path_list = glob(os.path.join(train_data_path, '*', 'images', '*'))\n",
    "train_path_list.sort()\n",
    "val_path_list = glob(os.path.join(val_data_path, '*'))\n",
    "val_path_list.sort()\n",
    "tst_path_list = glob(os.path.join(test_data_path, '*'))\n",
    "tst_path_list.sort()"
   ]
  },
  {
   "cell_type": "code",
   "execution_count": 8,
   "metadata": {},
   "outputs": [
    {
     "name": "stdout",
     "output_type": "stream",
     "text": [
      "n01629819\n"
     ]
    }
   ],
   "source": [
    "trn_lables = [os.path.split(path)[-1][:9] for path in train_path_list]\n",
    "print(trn_lables[500])"
   ]
  },
  {
   "cell_type": "code",
   "execution_count": 9,
   "metadata": {},
   "outputs": [],
   "source": [
    "with open('data/val/val_annotations.txt') as f:\n",
    "    lines = f.readlines()\n",
    "    val_tuples = [line.split(\"\\t\")[:2] for line in lines]"
   ]
  },
  {
   "cell_type": "code",
   "execution_count": 11,
   "metadata": {},
   "outputs": [],
   "source": [
    "trn_images = np.zeros((100000, 64, 64, 3), dtype=np.float32)\n",
    "val_images = np.zeros((10000, 64, 64, 3), dtype=np.float32)\n",
    "tst_images = np.zeros((10000, 64, 64, 3), dtype=np.float32)\n",
    "\n",
    "for i, path in enumerate(train_path_list):\n",
    "    image = Image.open(path)\n",
    "    data = np.asarray(image)\n",
    "    if len(data.shape) == 2:\n",
    "        data = np.stack([data, data, data], axis=2)\n",
    "    trn_images[i] = data\n",
    "\n",
    "for i, tuple in enumerate(val_tuples):\n",
    "    path = os.path.join(val_data_path, tuple[0])\n",
    "    image = Image.open(path)\n",
    "    data = np.asarray(image)\n",
    "    if len(data.shape) == 2:\n",
    "        data = np.stack([data, data, data], axis=2)\n",
    "    val_images[i] = data\n",
    "\n",
    "for i, path in enumerate(tst_path_list):\n",
    "    image = Image.open(path)\n",
    "    data = np.asarray(image)\n",
    "    if len(data.shape) == 2:\n",
    "        data = np.stack([data, data, data], axis=2)\n",
    "    tst_images[i] = data"
   ]
  },
  {
   "cell_type": "code",
   "execution_count": null,
   "metadata": {},
   "outputs": [],
   "source": [
    "trn_mean = np.mean(trn_images, axis=(0, 1, 2))\n",
    "trn_std = np.std(trn_images, axis=(0, 1, 2))\n",
    "\n",
    "val_mean = np.mean(val_images, axis=(0, 1, 2))\n",
    "val_std = np.std(val_images, axis=(0, 1, 2))\n",
    "\n",
    "tst_mean = np.mean(tst_images, axis=(0, 1, 2))\n",
    "tst_std = np.std(tst_images, axis=(0, 1, 2))"
   ]
  },
  {
   "cell_type": "code",
   "execution_count": null,
   "metadata": {},
   "outputs": [],
   "source": [
    "image = Image.open('data/train/n01629819/images/n01629819_0.JPEG')\n",
    "np_data = np.asarray(image)\n",
    "print(np_data.shape)\n",
    "print(image.format)\n",
    "print(image.size)\n",
    "print(image.mode)\n",
    "pyplot.imshow(image)\n",
    "pyplot.show()"
   ]
  },
  {
   "cell_type": "code",
   "execution_count": null,
   "metadata": {},
   "outputs": [],
   "source": [
    "image = trn_images[500]\n",
    "print(image.dtype)\n",
    "pyplot.imshow(image.astype(int))\n",
    "pyplot.show()"
   ]
  },
  {
   "cell_type": "code",
   "execution_count": 6,
   "metadata": {},
   "outputs": [
    {
     "name": "stdout",
     "output_type": "stream",
     "text": [
      "n01629819\n"
     ]
    },
    {
     "data": {
      "image/png": "[encoded data removed]",
      "text/plain": [
       "<Figure size 640x480 with 1 Axes>"
      ]
     },
     "metadata": {},
     "output_type": "display_data"
    }
   ],
   "source": [
    "f = h5py.File('data/tiny_imagenet_trn.hdf5', 'r')\n",
    "data = f['data']\n",
    "labels = f['labels']\n",
    "strings = labels.asstr()[()]\n",
    "image = np.asarray(data[500])\n",
    "label = strings[500]\n",
    "print(label)\n",
    "pyplot.imshow(image.astype(int))\n",
    "pyplot.show()"
   ]
  },
  {
   "cell_type": "code",
   "execution_count": 5,
   "metadata": {},
   "outputs": [
    {
     "name": "stdout",
     "output_type": "stream",
     "text": [
      "n02002724\n"
     ]
    }
   ],
   "source": [
    "f = h5py.File('data/tiny_imagenet_val.hdf5', 'r')\n",
    "labels = f['labels']\n",
    "strings = labels.asstr()[()]\n",
    "label = strings[500]\n",
    "print(label)"
   ]
  }
 ],
 "metadata": {
  "kernelspec": {
   "display_name": "mnist_test",
   "language": "python",
   "name": "python3"
  },
  "language_info": {
   "codemirror_mode": {
    "name": "ipython",
    "version": 3
   },
   "file_extension": ".py",
   "mimetype": "text/x-python",
   "name": "python",
   "nbconvert_exporter": "python",
   "pygments_lexer": "ipython3",
   "version": "3.9.13"
  },
  "orig_nbformat": 4,
  "vscode": {
   "interpreter": {
    "hash": "4c635020d71857411e75f216e7c5ce1f8b739730c5d2238d089ea40f991b51d8"
   }
  }
 },
 "nbformat": 4,
 "nbformat_minor": 2
}

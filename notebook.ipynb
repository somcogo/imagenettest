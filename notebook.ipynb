{
 "cells": [
  {
   "cell_type": "code",
   "execution_count": 18,
   "metadata": {},
   "outputs": [],
   "source": [
    "from PIL import Image\n",
    "from matplotlib import image\n",
    "from matplotlib import pyplot\n",
    "from glob import glob\n",
    "import os\n",
    "import numpy as np\n",
    "import torch\n",
    "import h5py\n",
    "from models.model import ResNet18Model\n",
    "from torchvision.transforms import Compose, RandomHorizontalFlip, RandomRotation\n",
    "import torchvision.transforms.functional as F\n",
    "import random\n",
    "from torchvision import models"
   ]
  },
  {
   "cell_type": "code",
   "execution_count": 21,
   "metadata": {},
   "outputs": [],
   "source": [
    "def mergeParams(model1, model2, model3, model4, model5):\n",
    "    dict1 = model1.state_dict()\n",
    "    dict2 = model2.state_dict()\n",
    "    dict3 = model3.state_dict()\n",
    "    dict4 = model4.state_dict()\n",
    "    dict5 = model5.state_dict()\n",
    "    dict_avg = {}\n",
    "\n",
    "    for name, _ in model1.named_parameters():\n",
    "        dict_avg[name] = (dict1[name] + dict2[name] + dict3[name] + dict4[name] + dict5[name]) / 5\n",
    "\n",
    "    model1.load_state_dict(dict_avg, strict=False)\n",
    "    model2.load_state_dict(dict_avg, strict=False)\n",
    "    model3.load_state_dict(dict_avg, strict=False)\n",
    "    model4.load_state_dict(dict_avg, strict=False)\n",
    "    model5.load_state_dict(dict_avg, strict=False)"
   ]
  },
  {
   "cell_type": "code",
   "execution_count": 3,
   "metadata": {},
   "outputs": [],
   "source": [
    "from site_training import MultiSiteTrainingApp\n",
    "model1 = ResNet18Model(num_classes=200)\n",
    "model2 = ResNet18Model(num_classes=200)\n",
    "model3 = ResNet18Model(num_classes=200)\n",
    "model4 = ResNet18Model(num_classes=200)\n",
    "model5 = ResNet18Model(num_classes=200)\n",
    "name = 'model.conv1.weight'\n",
    "dict1 = {name: torch.zeros((64, 3, 7, 7))}\n",
    "dict2 = {name: torch.zeros((64, 3, 7, 7)) + 1}\n",
    "dict3 = {name: torch.zeros((64, 3, 7, 7)) + 2}\n",
    "dict4 = {name: torch.zeros((64, 3, 7, 7)) + 4}\n",
    "dict5 = {name: torch.zeros((64, 3, 7, 7)) + 4}"
   ]
  },
  {
   "cell_type": "code",
   "execution_count": null,
   "metadata": {},
   "outputs": [],
   "source": [
    "model1.load_state_dict(dict1, strict=False)\n",
    "model2.load_state_dict(dict2, strict=False)\n",
    "model3.load_state_dict(dict3, strict=False)\n",
    "model4.load_state_dict(dict4, strict=False)\n",
    "model5.load_state_dict(dict5, strict=False)"
   ]
  },
  {
   "cell_type": "code",
   "execution_count": 27,
   "metadata": {},
   "outputs": [],
   "source": [
    "mergeParams(model1, model2, model3, model4, model5)"
   ]
  },
  {
   "cell_type": "code",
   "execution_count": null,
   "metadata": {},
   "outputs": [],
   "source": [
    "for name, _ in model1.named_parameters():\n",
    "    print(name)"
   ]
  },
  {
   "cell_type": "code",
   "execution_count": null,
   "metadata": {},
   "outputs": [],
   "source": [
    "model = models.resnet18(weights=None)\n",
    "model.fc = torch.nn.Linear(512, 200)\n",
    "state_dict_path = '/home/somahansel/work/imagenettest/saved_models/site1/imagenet_2023-02-07_03.20.48_lr5.best.state'\n",
    "model.load_state_dict(torch.load(state_dict_path), strict=False)"
   ]
  },
  {
   "cell_type": "code",
   "execution_count": 32,
   "metadata": {},
   "outputs": [
    {
     "name": "stdout",
     "output_type": "stream",
     "text": [
      "tensor(100)\n"
     ]
    }
   ],
   "source": [
    "f = h5py.File('data/tiny_imagenet_trn.hdf5', 'r')\n",
    "data = f['data']\n",
    "image = np.asarray(data[9])\n",
    "image = torch.from_numpy(image).permute(2, 0, 1).unsqueeze(dim=0)\n",
    "print(torch.argmax(model(image)))"
   ]
  },
  {
   "cell_type": "code",
   "execution_count": 10,
   "metadata": {},
   "outputs": [
    {
     "name": "stdout",
     "output_type": "stream",
     "text": [
      "Initiated model with 11279112 params\n"
     ]
    }
   ],
   "source": [
    "param_num = 0\n",
    "for name, param in model1.named_parameters():\n",
    "    if name.split('.')[1] == 'layer4':\n",
    "        param_num += param.numel()\n",
    "print('Initiated model with {} params'.format(param_num))"
   ]
  },
  {
   "cell_type": "code",
   "execution_count": 34,
   "metadata": {},
   "outputs": [],
   "source": [
    "train_data_path = 'data/train'\n",
    "val_data_path = 'data/val/images'\n",
    "test_data_path = 'data/test/images'\n",
    "\n",
    "train_path_list = glob(os.path.join(train_data_path, '*', 'images', '*'))\n",
    "train_path_list.sort()\n",
    "val_path_list = glob(os.path.join(val_data_path, '*'))\n",
    "val_path_list.sort()\n",
    "tst_path_list = glob(os.path.join(test_data_path, '*'))\n",
    "tst_path_list.sort()"
   ]
  },
  {
   "cell_type": "code",
   "execution_count": 35,
   "metadata": {},
   "outputs": [
    {
     "name": "stdout",
     "output_type": "stream",
     "text": [
      "n01629819\n"
     ]
    }
   ],
   "source": [
    "trn_lables = [os.path.split(path)[-1][:9] for path in train_path_list]\n",
    "print(trn_lables[500])"
   ]
  },
  {
   "cell_type": "code",
   "execution_count": 36,
   "metadata": {},
   "outputs": [],
   "source": [
    "with open('data/val/val_annotations.txt') as f:\n",
    "    lines = f.readlines()\n",
    "    val_tuples = [line.split(\"\\t\")[:2] for line in lines]"
   ]
  },
  {
   "cell_type": "code",
   "execution_count": null,
   "metadata": {},
   "outputs": [],
   "source": [
    "trn_images = np.zeros((100000, 64, 64, 3), dtype=np.float32)\n",
    "val_images = np.zeros((10000, 64, 64, 3), dtype=np.float32)\n",
    "tst_images = np.zeros((10000, 64, 64, 3), dtype=np.float32)\n",
    "\n",
    "for i, path in enumerate(train_path_list):\n",
    "    image = Image.open(path)\n",
    "    data = np.asarray(image)\n",
    "    if len(data.shape) == 2:\n",
    "        data = np.stack([data, data, data], axis=2)\n",
    "    trn_images[i] = data\n",
    "\n",
    "for i, tuple in enumerate(val_tuples):\n",
    "    path = os.path.join(val_data_path, tuple[0])\n",
    "    image = Image.open(path)\n",
    "    data = np.asarray(image)\n",
    "    if len(data.shape) == 2:\n",
    "        data = np.stack([data, data, data], axis=2)\n",
    "    val_images[i] = data\n",
    "\n",
    "for i, path in enumerate(tst_path_list):\n",
    "    image = Image.open(path)\n",
    "    data = np.asarray(image)\n",
    "    if len(data.shape) == 2:\n",
    "        data = np.stack([data, data, data], axis=2)\n",
    "    tst_images[i] = data"
   ]
  },
  {
   "cell_type": "code",
   "execution_count": null,
   "metadata": {},
   "outputs": [],
   "source": [
    "trn_mean = np.mean(trn_images, axis=(0, 1, 2))\n",
    "trn_std = np.std(trn_images, axis=(0, 1, 2))\n",
    "\n",
    "val_mean = np.mean(val_images, axis=(0, 1, 2))\n",
    "val_std = np.std(val_images, axis=(0, 1, 2))\n",
    "\n",
    "tst_mean = np.mean(tst_images, axis=(0, 1, 2))\n",
    "tst_std = np.std(tst_images, axis=(0, 1, 2))"
   ]
  },
  {
   "cell_type": "code",
   "execution_count": null,
   "metadata": {},
   "outputs": [],
   "source": [
    "image = Image.open('data/train/n01629819/images/n01629819_0.JPEG')\n",
    "np_data = np.asarray(image)\n",
    "print(np_data.shape)\n",
    "print(image.format)\n",
    "print(image.size)\n",
    "print(image.mode)\n",
    "pyplot.imshow(image)\n",
    "pyplot.show()"
   ]
  },
  {
   "cell_type": "code",
   "execution_count": null,
   "metadata": {},
   "outputs": [],
   "source": [
    "image = trn_images[500]\n",
    "print(image.dtype)\n",
    "pyplot.imshow(image.astype(int))\n",
    "pyplot.show()"
   ]
  },
  {
   "cell_type": "code",
   "execution_count": 112,
   "metadata": {},
   "outputs": [
    {
     "name": "stderr",
     "output_type": "stream",
     "text": [
      "2023-02-06 17:29:34,488 WARNING  pid:93053 matplotlib.image:725:set_data Clipping input data to the valid range for imshow with RGB data ([0..1] for floats or [0..255] for integers).\n"
     ]
    },
    {
     "name": "stdout",
     "output_type": "stream",
     "text": [
      "0\n"
     ]
    },
    {
     "data": {
      "image/png": "[encoded data removed]",
      "text/plain": [
       "<Figure size 640x480 with 1 Axes>"
      ]
     },
     "metadata": {},
     "output_type": "display_data"
    }
   ],
   "source": [
    "angles = [0, 90, 180, 270]\n",
    "angle = random.choice(angles)\n",
    "flip = random.choice([True, False])\n",
    "print(angle)\n",
    "f = h5py.File('data/tiny_imagenet_trn.hdf5', 'r')\n",
    "data = f['data']\n",
    "labels = f['labels']\n",
    "image = np.asarray(data[0])\n",
    "image = torch.from_numpy(image).permute(2, 0, 1)\n",
    "if flip:\n",
    "    image = F.hflip(image)\n",
    "image = F.rotate(image, angle).permute(1, 2, 0)\n",
    "image = np.asarray(image)\n",
    "label = labels[500]\n",
    "pyplot.imshow(image.astype(float))\n",
    "pyplot.show()"
   ]
  },
  {
   "cell_type": "code",
   "execution_count": null,
   "metadata": {},
   "outputs": [],
   "source": [
    "f = h5py.File('data/tiny_imagenet_val.hdf5', 'r')\n",
    "labels = f['labels']\n",
    "strings = labels.asstr()[()]\n",
    "label = strings[500]\n",
    "print(label)"
   ]
  },
  {
   "cell_type": "code",
   "execution_count": 3,
   "metadata": {},
   "outputs": [
    {
     "name": "stdout",
     "output_type": "stream",
     "text": [
      "tensor(0.2880, grad_fn=<SelectBackward0>)\n"
     ]
    }
   ],
   "source": [
    "model = ResNet18Model(num_classes=200)\n",
    "f = h5py.File('data/tiny_imagenet_trn.hdf5', 'r')\n",
    "data = f['data']\n",
    "labels = f['labels']\n",
    "image = np.asarray(data[500])\n",
    "image = torch.from_numpy(image)\n",
    "image = image.permute(2, 0, 1).unsqueeze(dim=0)\n",
    "label = labels[500]\n",
    "out = model(image)\n",
    "print(out[0,10])"
   ]
  },
  {
   "cell_type": "code",
   "execution_count": null,
   "metadata": {},
   "outputs": [],
   "source": [
    "for name, param in model.named_parameters():\n",
    "    print(name, param.shape)"
   ]
  },
  {
   "cell_type": "code",
   "execution_count": null,
   "metadata": {},
   "outputs": [],
   "source": [
    "model1 = ResNet18Model(num_classes=200)\n",
    "dict = model1.state_dict()\n",
    "print(dict)"
   ]
  },
  {
   "cell_type": "code",
   "execution_count": 115,
   "metadata": {},
   "outputs": [
    {
     "name": "stdout",
     "output_type": "stream",
     "text": [
      "[[], [], [], [], [], [], [], [], [], []]\n"
     ]
    }
   ],
   "source": [
    "l = []\n",
    "for _ in range(10):\n",
    "    l.append([])\n",
    "print(l)"
   ]
  }
 ],
 "metadata": {
  "kernelspec": {
   "display_name": "mnist_test",
   "language": "python",
   "name": "python3"
  },
  "language_info": {
   "codemirror_mode": {
    "name": "ipython",
    "version": 3
   },
   "file_extension": ".py",
   "mimetype": "text/x-python",
   "name": "python",
   "nbconvert_exporter": "python",
   "pygments_lexer": "ipython3",
   "version": "3.9.13"
  },
  "orig_nbformat": 4,
  "vscode": {
   "interpreter": {
    "hash": "4c635020d71857411e75f216e7c5ce1f8b739730c5d2238d089ea40f991b51d8"
   }
  }
 },
 "nbformat": 4,
 "nbformat_minor": 2
}
